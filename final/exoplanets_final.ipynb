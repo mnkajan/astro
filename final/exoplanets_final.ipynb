{
  "nbformat": 4,
  "nbformat_minor": 0,
  "metadata": {
    "colab": {
      "name": "Exoplanets final",
      "provenance": [],
      "collapsed_sections": [],
      "toc_visible": true,
      "authorship_tag": "ABX9TyPs8mIjDne7hNlBtThjdI7F",
      "include_colab_link": true
    },
    "kernelspec": {
      "name": "python3",
      "display_name": "Python 3"
    },
    "language_info": {
      "name": "python"
    }
  },
  "cells": [
    {
      "cell_type": "markdown",
      "metadata": {
        "id": "view-in-github",
        "colab_type": "text"
      },
      "source": [
        "<a href=\"https://colab.research.google.com/github/mnkajan/astro/blob/main/final/exoplanets_final.ipynb\" target=\"_parent\"><img src=\"https://colab.research.google.com/assets/colab-badge.svg\" alt=\"Open In Colab\"/></a>"
      ]
    },
    {
      "cell_type": "markdown",
      "metadata": {
        "id": "4s7UYZ5v0wDv"
      },
      "source": [
        "## Exoplanets final"
      ]
    },
    {
      "cell_type": "code",
      "metadata": {
        "id": "ladUDIrVwhhQ"
      },
      "source": [
        "import numpy as np\n",
        "from matplotlib import pyplot as plt\n",
        "import pandas as pd"
      ],
      "execution_count": 2,
      "outputs": []
    },
    {
      "cell_type": "code",
      "source": [
        "!pip install emcee\n",
        "!pip install corner"
      ],
      "metadata": {
        "colab": {
          "base_uri": "https://localhost:8080/"
        },
        "id": "URi6mz9CtocO",
        "outputId": "92bdba0a-5d95-4e92-a8e2-df2537921589"
      },
      "execution_count": 3,
      "outputs": [
        {
          "output_type": "stream",
          "name": "stdout",
          "text": [
            "Collecting emcee\n",
            "  Downloading emcee-3.1.1-py2.py3-none-any.whl (45 kB)\n",
            "\u001b[?25l\r\u001b[K     |███████▏                        | 10 kB 17.7 MB/s eta 0:00:01\r\u001b[K     |██████████████▎                 | 20 kB 23.7 MB/s eta 0:00:01\r\u001b[K     |█████████████████████▍          | 30 kB 13.0 MB/s eta 0:00:01\r\u001b[K     |████████████████████████████▌   | 40 kB 9.9 MB/s eta 0:00:01\r\u001b[K     |████████████████████████████████| 45 kB 2.6 MB/s \n",
            "\u001b[?25hRequirement already satisfied: numpy in /usr/local/lib/python3.7/dist-packages (from emcee) (1.19.5)\n",
            "Installing collected packages: emcee\n",
            "Successfully installed emcee-3.1.1\n",
            "Collecting corner\n",
            "  Downloading corner-2.2.1-py3-none-any.whl (15 kB)\n",
            "Requirement already satisfied: matplotlib>=2.1 in /usr/local/lib/python3.7/dist-packages (from corner) (3.2.2)\n",
            "Requirement already satisfied: kiwisolver>=1.0.1 in /usr/local/lib/python3.7/dist-packages (from matplotlib>=2.1->corner) (1.3.2)\n",
            "Requirement already satisfied: numpy>=1.11 in /usr/local/lib/python3.7/dist-packages (from matplotlib>=2.1->corner) (1.19.5)\n",
            "Requirement already satisfied: cycler>=0.10 in /usr/local/lib/python3.7/dist-packages (from matplotlib>=2.1->corner) (0.11.0)\n",
            "Requirement already satisfied: pyparsing!=2.0.4,!=2.1.2,!=2.1.6,>=2.0.1 in /usr/local/lib/python3.7/dist-packages (from matplotlib>=2.1->corner) (3.0.6)\n",
            "Requirement already satisfied: python-dateutil>=2.1 in /usr/local/lib/python3.7/dist-packages (from matplotlib>=2.1->corner) (2.8.2)\n",
            "Requirement already satisfied: six>=1.5 in /usr/local/lib/python3.7/dist-packages (from python-dateutil>=2.1->matplotlib>=2.1->corner) (1.15.0)\n",
            "Installing collected packages: corner\n",
            "Successfully installed corner-2.2.1\n"
          ]
        }
      ]
    },
    {
      "cell_type": "markdown",
      "source": [
        "## Question 1:\n",
        "\n",
        "We'll combine a table from Fischer & Valenti (2005) on planet detections and another from Valenti & Fischer (2005) about stellar properties to construct a histogram of stellar populations with and without planets as a function of metallicity:"
      ],
      "metadata": {
        "id": "_0rJP4VOKORf"
      }
    },
    {
      "cell_type": "code",
      "source": [
        "# 'stars with uniform planet detectability' table from Fischer & Valenti (2005)\n",
        "!wget -nv https://raw.githubusercontent.com/mnkajan/astro/main/exoplanets/final/table3_fv05.txt\n",
        "table3_labels = ['ID', 'f_ID']\n",
        "table3 = pd.read_csv('table3_fv05.txt', delimiter=r'\\s+', names=table3_labels, skiprows=15, header=None)\n",
        "\n",
        "# 'spectroscopically determined stellar properties' table from Valenti & Fischer (2005)\n",
        "!wget -nv https://raw.githubusercontent.com/mnkajan/astro/main/exoplanets/final/table8_vf05.txt\n",
        "table8_labels = ['ID', 'Name', 'Teff', 'log(g)', 'M/H', 'Na/H', 'Si/H', 'Ti/H', 'Fe/H', 'Ni/H', 'vsini', 'VRad', 'C-RMS', 'L-RMS', 'K', 'A', 'L']\n",
        "table8 = pd.read_csv('table8_vf05.txt', delimiter=r'\\s+', names=table8_labels, skiprows=35, header=None)\n",
        "\n",
        "# combine planet detection data from table3 with stellar properties from table8\n",
        "table = pd.merge(table3, table8, how='inner', left_on='ID', right_on='Name')"
      ],
      "metadata": {
        "colab": {
          "base_uri": "https://localhost:8080/"
        },
        "id": "R_33kbtRNJsJ",
        "outputId": "38930415-b014-4e3b-9836-b67ae25342c2"
      },
      "execution_count": 54,
      "outputs": [
        {
          "output_type": "stream",
          "name": "stdout",
          "text": [
            "2021-12-19 05:54:34 URL:https://raw.githubusercontent.com/mnkajan/astro/main/exoplanets/final/table3_fv05.txt [11841/11841] -> \"table3_fv05.txt.1\" [1]\n",
            "2021-12-19 05:54:35 URL:https://raw.githubusercontent.com/mnkajan/astro/main/exoplanets/final/table8_vf05.txt [99015/99015] -> \"table8_vf05.txt.1\" [1]\n"
          ]
        }
      ]
    },
    {
      "cell_type": "code",
      "source": [
        "# make sure merged table looks fine\n",
        "table"
      ],
      "metadata": {
        "colab": {
          "base_uri": "https://localhost:8080/",
          "height": 424
        },
        "id": "ZAPSt8t1SpfY",
        "outputId": "e408355a-6c9a-43df-a411-4b176b8ae83c"
      },
      "execution_count": 195,
      "outputs": [
        {
          "output_type": "execute_result",
          "data": {
            "text/html": [
              "\n",
              "  <div id=\"df-772be02a-596b-4389-b981-5b9425bbe16e\">\n",
              "    <div class=\"colab-df-container\">\n",
              "      <div>\n",
              "<style scoped>\n",
              "    .dataframe tbody tr th:only-of-type {\n",
              "        vertical-align: middle;\n",
              "    }\n",
              "\n",
              "    .dataframe tbody tr th {\n",
              "        vertical-align: top;\n",
              "    }\n",
              "\n",
              "    .dataframe thead th {\n",
              "        text-align: right;\n",
              "    }\n",
              "</style>\n",
              "<table border=\"1\" class=\"dataframe\">\n",
              "  <thead>\n",
              "    <tr style=\"text-align: right;\">\n",
              "      <th></th>\n",
              "      <th>ID_x</th>\n",
              "      <th>f_ID</th>\n",
              "      <th>ID_y</th>\n",
              "      <th>Name</th>\n",
              "      <th>Teff</th>\n",
              "      <th>log(g)</th>\n",
              "      <th>M/H</th>\n",
              "      <th>Na/H</th>\n",
              "      <th>Si/H</th>\n",
              "      <th>Ti/H</th>\n",
              "      <th>Fe/H</th>\n",
              "      <th>Ni/H</th>\n",
              "      <th>vsini</th>\n",
              "      <th>VRad</th>\n",
              "      <th>C-RMS</th>\n",
              "      <th>L-RMS</th>\n",
              "      <th>K</th>\n",
              "      <th>A</th>\n",
              "      <th>L</th>\n",
              "    </tr>\n",
              "  </thead>\n",
              "  <tbody>\n",
              "    <tr>\n",
              "      <th>0</th>\n",
              "      <td>HD142</td>\n",
              "      <td>P</td>\n",
              "      <td>3</td>\n",
              "      <td>HD142</td>\n",
              "      <td>6249</td>\n",
              "      <td>4.19</td>\n",
              "      <td>0.08</td>\n",
              "      <td>0.07</td>\n",
              "      <td>0.10</td>\n",
              "      <td>0.07</td>\n",
              "      <td>0.10</td>\n",
              "      <td>0.04</td>\n",
              "      <td>10.4</td>\n",
              "      <td>6.0</td>\n",
              "      <td>0.53</td>\n",
              "      <td>0.99</td>\n",
              "      <td>0.0</td>\n",
              "      <td>6</td>\n",
              "      <td>0</td>\n",
              "    </tr>\n",
              "    <tr>\n",
              "      <th>1</th>\n",
              "      <td>HD2039</td>\n",
              "      <td>P</td>\n",
              "      <td>17</td>\n",
              "      <td>HD2039</td>\n",
              "      <td>5941</td>\n",
              "      <td>4.38</td>\n",
              "      <td>0.30</td>\n",
              "      <td>0.41</td>\n",
              "      <td>0.33</td>\n",
              "      <td>0.25</td>\n",
              "      <td>0.32</td>\n",
              "      <td>0.34</td>\n",
              "      <td>3.2</td>\n",
              "      <td>8.3</td>\n",
              "      <td>1.99</td>\n",
              "      <td>2.17</td>\n",
              "      <td>0.0</td>\n",
              "      <td>4</td>\n",
              "      <td>0</td>\n",
              "    </tr>\n",
              "    <tr>\n",
              "      <th>2</th>\n",
              "      <td>HD4203</td>\n",
              "      <td>P</td>\n",
              "      <td>36</td>\n",
              "      <td>HD4203</td>\n",
              "      <td>5702</td>\n",
              "      <td>4.36</td>\n",
              "      <td>0.33</td>\n",
              "      <td>0.50</td>\n",
              "      <td>0.40</td>\n",
              "      <td>0.40</td>\n",
              "      <td>0.45</td>\n",
              "      <td>0.47</td>\n",
              "      <td>1.2</td>\n",
              "      <td>-14.7</td>\n",
              "      <td>1.54</td>\n",
              "      <td>1.69</td>\n",
              "      <td>1.0</td>\n",
              "      <td>0</td>\n",
              "      <td>0</td>\n",
              "    </tr>\n",
              "    <tr>\n",
              "      <th>3</th>\n",
              "      <td>HD8574</td>\n",
              "      <td>P</td>\n",
              "      <td>71</td>\n",
              "      <td>HD8574</td>\n",
              "      <td>6050</td>\n",
              "      <td>4.20</td>\n",
              "      <td>-0.01</td>\n",
              "      <td>-0.03</td>\n",
              "      <td>-0.00</td>\n",
              "      <td>0.04</td>\n",
              "      <td>-0.01</td>\n",
              "      <td>-0.03</td>\n",
              "      <td>4.5</td>\n",
              "      <td>19.4</td>\n",
              "      <td>0.78</td>\n",
              "      <td>0.99</td>\n",
              "      <td>1.0</td>\n",
              "      <td>0</td>\n",
              "      <td>0</td>\n",
              "    </tr>\n",
              "    <tr>\n",
              "      <th>4</th>\n",
              "      <td>HD10697</td>\n",
              "      <td>P</td>\n",
              "      <td>97</td>\n",
              "      <td>HD10697</td>\n",
              "      <td>5680</td>\n",
              "      <td>4.12</td>\n",
              "      <td>0.10</td>\n",
              "      <td>0.17</td>\n",
              "      <td>0.13</td>\n",
              "      <td>0.15</td>\n",
              "      <td>0.19</td>\n",
              "      <td>0.17</td>\n",
              "      <td>2.5</td>\n",
              "      <td>-45.4</td>\n",
              "      <td>0.99</td>\n",
              "      <td>1.13</td>\n",
              "      <td>1.0</td>\n",
              "      <td>0</td>\n",
              "      <td>0</td>\n",
              "    </tr>\n",
              "    <tr>\n",
              "      <th>...</th>\n",
              "      <td>...</td>\n",
              "      <td>...</td>\n",
              "      <td>...</td>\n",
              "      <td>...</td>\n",
              "      <td>...</td>\n",
              "      <td>...</td>\n",
              "      <td>...</td>\n",
              "      <td>...</td>\n",
              "      <td>...</td>\n",
              "      <td>...</td>\n",
              "      <td>...</td>\n",
              "      <td>...</td>\n",
              "      <td>...</td>\n",
              "      <td>...</td>\n",
              "      <td>...</td>\n",
              "      <td>...</td>\n",
              "      <td>...</td>\n",
              "      <td>...</td>\n",
              "      <td>...</td>\n",
              "    </tr>\n",
              "    <tr>\n",
              "      <th>837</th>\n",
              "      <td>HD223315</td>\n",
              "      <td>S</td>\n",
              "      <td>1035</td>\n",
              "      <td>HD223315</td>\n",
              "      <td>5606</td>\n",
              "      <td>4.34</td>\n",
              "      <td>0.28</td>\n",
              "      <td>0.29</td>\n",
              "      <td>0.28</td>\n",
              "      <td>0.25</td>\n",
              "      <td>0.30</td>\n",
              "      <td>0.31</td>\n",
              "      <td>2.2</td>\n",
              "      <td>-2.5</td>\n",
              "      <td>0.66</td>\n",
              "      <td>1.50</td>\n",
              "      <td>1.0</td>\n",
              "      <td>0</td>\n",
              "      <td>0</td>\n",
              "    </tr>\n",
              "    <tr>\n",
              "      <th>838</th>\n",
              "      <td>HD223498</td>\n",
              "      <td>S</td>\n",
              "      <td>1036</td>\n",
              "      <td>HD223498</td>\n",
              "      <td>5628</td>\n",
              "      <td>4.58</td>\n",
              "      <td>0.14</td>\n",
              "      <td>0.17</td>\n",
              "      <td>0.18</td>\n",
              "      <td>0.17</td>\n",
              "      <td>0.23</td>\n",
              "      <td>0.18</td>\n",
              "      <td>0.0</td>\n",
              "      <td>-23.7</td>\n",
              "      <td>1.14</td>\n",
              "      <td>1.21</td>\n",
              "      <td>1.0</td>\n",
              "      <td>0</td>\n",
              "      <td>0</td>\n",
              "    </tr>\n",
              "    <tr>\n",
              "      <th>839</th>\n",
              "      <td>HD223691</td>\n",
              "      <td>S</td>\n",
              "      <td>1037</td>\n",
              "      <td>HD223691</td>\n",
              "      <td>5506</td>\n",
              "      <td>4.08</td>\n",
              "      <td>-0.20</td>\n",
              "      <td>-0.22</td>\n",
              "      <td>-0.16</td>\n",
              "      <td>-0.08</td>\n",
              "      <td>-0.17</td>\n",
              "      <td>-0.19</td>\n",
              "      <td>2.1</td>\n",
              "      <td>2.2</td>\n",
              "      <td>0.59</td>\n",
              "      <td>0.99</td>\n",
              "      <td>1.0</td>\n",
              "      <td>0</td>\n",
              "      <td>0</td>\n",
              "    </tr>\n",
              "    <tr>\n",
              "      <th>840</th>\n",
              "      <td>HD224156</td>\n",
              "      <td>S</td>\n",
              "      <td>1038</td>\n",
              "      <td>HD224156</td>\n",
              "      <td>5496</td>\n",
              "      <td>4.58</td>\n",
              "      <td>0.03</td>\n",
              "      <td>-0.05</td>\n",
              "      <td>0.02</td>\n",
              "      <td>0.04</td>\n",
              "      <td>-0.03</td>\n",
              "      <td>-0.06</td>\n",
              "      <td>1.7</td>\n",
              "      <td>15.3</td>\n",
              "      <td>0.95</td>\n",
              "      <td>1.42</td>\n",
              "      <td>1.0</td>\n",
              "      <td>0</td>\n",
              "      <td>0</td>\n",
              "    </tr>\n",
              "    <tr>\n",
              "      <th>841</th>\n",
              "      <td>HD224383</td>\n",
              "      <td>S</td>\n",
              "      <td>1039</td>\n",
              "      <td>HD224383</td>\n",
              "      <td>5754</td>\n",
              "      <td>4.31</td>\n",
              "      <td>-0.06</td>\n",
              "      <td>-0.14</td>\n",
              "      <td>-0.05</td>\n",
              "      <td>-0.00</td>\n",
              "      <td>-0.04</td>\n",
              "      <td>-0.09</td>\n",
              "      <td>1.9</td>\n",
              "      <td>-30.7</td>\n",
              "      <td>0.41</td>\n",
              "      <td>1.07</td>\n",
              "      <td>1.0</td>\n",
              "      <td>0</td>\n",
              "      <td>0</td>\n",
              "    </tr>\n",
              "  </tbody>\n",
              "</table>\n",
              "<p>842 rows × 19 columns</p>\n",
              "</div>\n",
              "      <button class=\"colab-df-convert\" onclick=\"convertToInteractive('df-772be02a-596b-4389-b981-5b9425bbe16e')\"\n",
              "              title=\"Convert this dataframe to an interactive table.\"\n",
              "              style=\"display:none;\">\n",
              "        \n",
              "  <svg xmlns=\"http://www.w3.org/2000/svg\" height=\"24px\"viewBox=\"0 0 24 24\"\n",
              "       width=\"24px\">\n",
              "    <path d=\"M0 0h24v24H0V0z\" fill=\"none\"/>\n",
              "    <path d=\"M18.56 5.44l.94 2.06.94-2.06 2.06-.94-2.06-.94-.94-2.06-.94 2.06-2.06.94zm-11 1L8.5 8.5l.94-2.06 2.06-.94-2.06-.94L8.5 2.5l-.94 2.06-2.06.94zm10 10l.94 2.06.94-2.06 2.06-.94-2.06-.94-.94-2.06-.94 2.06-2.06.94z\"/><path d=\"M17.41 7.96l-1.37-1.37c-.4-.4-.92-.59-1.43-.59-.52 0-1.04.2-1.43.59L10.3 9.45l-7.72 7.72c-.78.78-.78 2.05 0 2.83L4 21.41c.39.39.9.59 1.41.59.51 0 1.02-.2 1.41-.59l7.78-7.78 2.81-2.81c.8-.78.8-2.07 0-2.86zM5.41 20L4 18.59l7.72-7.72 1.47 1.35L5.41 20z\"/>\n",
              "  </svg>\n",
              "      </button>\n",
              "      \n",
              "  <style>\n",
              "    .colab-df-container {\n",
              "      display:flex;\n",
              "      flex-wrap:wrap;\n",
              "      gap: 12px;\n",
              "    }\n",
              "\n",
              "    .colab-df-convert {\n",
              "      background-color: #E8F0FE;\n",
              "      border: none;\n",
              "      border-radius: 50%;\n",
              "      cursor: pointer;\n",
              "      display: none;\n",
              "      fill: #1967D2;\n",
              "      height: 32px;\n",
              "      padding: 0 0 0 0;\n",
              "      width: 32px;\n",
              "    }\n",
              "\n",
              "    .colab-df-convert:hover {\n",
              "      background-color: #E2EBFA;\n",
              "      box-shadow: 0px 1px 2px rgba(60, 64, 67, 0.3), 0px 1px 3px 1px rgba(60, 64, 67, 0.15);\n",
              "      fill: #174EA6;\n",
              "    }\n",
              "\n",
              "    [theme=dark] .colab-df-convert {\n",
              "      background-color: #3B4455;\n",
              "      fill: #D2E3FC;\n",
              "    }\n",
              "\n",
              "    [theme=dark] .colab-df-convert:hover {\n",
              "      background-color: #434B5C;\n",
              "      box-shadow: 0px 1px 3px 1px rgba(0, 0, 0, 0.15);\n",
              "      filter: drop-shadow(0px 1px 2px rgba(0, 0, 0, 0.3));\n",
              "      fill: #FFFFFF;\n",
              "    }\n",
              "  </style>\n",
              "\n",
              "      <script>\n",
              "        const buttonEl =\n",
              "          document.querySelector('#df-772be02a-596b-4389-b981-5b9425bbe16e button.colab-df-convert');\n",
              "        buttonEl.style.display =\n",
              "          google.colab.kernel.accessAllowed ? 'block' : 'none';\n",
              "\n",
              "        async function convertToInteractive(key) {\n",
              "          const element = document.querySelector('#df-772be02a-596b-4389-b981-5b9425bbe16e');\n",
              "          const dataTable =\n",
              "            await google.colab.kernel.invokeFunction('convertToInteractive',\n",
              "                                                     [key], {});\n",
              "          if (!dataTable) return;\n",
              "\n",
              "          const docLinkHtml = 'Like what you see? Visit the ' +\n",
              "            '<a target=\"_blank\" href=https://colab.research.google.com/notebooks/data_table.ipynb>data table notebook</a>'\n",
              "            + ' to learn more about interactive tables.';\n",
              "          element.innerHTML = '';\n",
              "          dataTable['output_type'] = 'display_data';\n",
              "          await google.colab.output.renderOutput(dataTable, element);\n",
              "          const docLink = document.createElement('div');\n",
              "          docLink.innerHTML = docLinkHtml;\n",
              "          element.appendChild(docLink);\n",
              "        }\n",
              "      </script>\n",
              "    </div>\n",
              "  </div>\n",
              "  "
            ],
            "text/plain": [
              "         ID_x f_ID  ID_y      Name  Teff  log(g)  ...  VRad  C-RMS  L-RMS    K  A  L\n",
              "0       HD142    P     3     HD142  6249    4.19  ...   6.0   0.53   0.99  0.0  6  0\n",
              "1      HD2039    P    17    HD2039  5941    4.38  ...   8.3   1.99   2.17  0.0  4  0\n",
              "2      HD4203    P    36    HD4203  5702    4.36  ... -14.7   1.54   1.69  1.0  0  0\n",
              "3      HD8574    P    71    HD8574  6050    4.20  ...  19.4   0.78   0.99  1.0  0  0\n",
              "4     HD10697    P    97   HD10697  5680    4.12  ... -45.4   0.99   1.13  1.0  0  0\n",
              "..        ...  ...   ...       ...   ...     ...  ...   ...    ...    ...  ... .. ..\n",
              "837  HD223315    S  1035  HD223315  5606    4.34  ...  -2.5   0.66   1.50  1.0  0  0\n",
              "838  HD223498    S  1036  HD223498  5628    4.58  ... -23.7   1.14   1.21  1.0  0  0\n",
              "839  HD223691    S  1037  HD223691  5506    4.08  ...   2.2   0.59   0.99  1.0  0  0\n",
              "840  HD224156    S  1038  HD224156  5496    4.58  ...  15.3   0.95   1.42  1.0  0  0\n",
              "841  HD224383    S  1039  HD224383  5754    4.31  ... -30.7   0.41   1.07  1.0  0  0\n",
              "\n",
              "[842 rows x 19 columns]"
            ]
          },
          "metadata": {},
          "execution_count": 195
        }
      ]
    },
    {
      "cell_type": "code",
      "source": [
        "# pulling out stars with (P) and without (NP) planets\n",
        "star_P = table.loc[table.f_ID == 'P']\n",
        "star_NP = table.loc[table.f_ID == 'S']\n",
        "print(len(star_P), len(star_NP))"
      ],
      "metadata": {
        "colab": {
          "base_uri": "https://localhost:8080/"
        },
        "id": "8MzBlysMNh4q",
        "outputId": "af3daefa-ee76-44d3-96b7-e23d92ad6fea"
      },
      "execution_count": 55,
      "outputs": [
        {
          "output_type": "stream",
          "name": "stdout",
          "text": [
            "47 795\n"
          ]
        }
      ]
    },
    {
      "cell_type": "code",
      "source": [
        "# check range of metallicity\n",
        "print(np.min(table['Fe/H']), np.max(table['Fe/H']))\n",
        "print(np.min(table['M/H']), np.max(table['M/H']))"
      ],
      "metadata": {
        "colab": {
          "base_uri": "https://localhost:8080/"
        },
        "id": "7VrPawGeBceX",
        "outputId": "070c06ec-3074-4fa7-fa2b-686b4ba3d493"
      },
      "execution_count": 5,
      "outputs": [
        {
          "output_type": "stream",
          "name": "stdout",
          "text": [
            "-1.95 0.56\n",
            "-1.92 0.46\n"
          ]
        }
      ]
    },
    {
      "cell_type": "code",
      "source": [
        "# plotting log iron abundance for stellar populations P and NP\n",
        "bins = np.linspace(-2, 0.5, 25)\n",
        "plt.hist(star_P['Fe/H'], density='True', bins=bins, label='planet(s) detected', alpha=0.5)\n",
        "plt.hist(star_NP['Fe/H'], density='True', bins=bins, label='no planets detected', alpha=0.5)\n",
        "plt.title('Log iron abundance for stars with and without detected planets')\n",
        "plt.ylabel('Normalized count')\n",
        "plt.xlabel('[Fe/H]')\n",
        "plt.legend()\n",
        "plt.show()"
      ],
      "metadata": {
        "colab": {
          "base_uri": "https://localhost:8080/",
          "height": 295
        },
        "id": "iCAtudh6DOCF",
        "outputId": "2095f7a2-d139-49ff-de65-74d6a2da29fa"
      },
      "execution_count": 6,
      "outputs": [
        {
          "output_type": "display_data",
          "data": {
            "image/png": "[encoded data removed]",
            "text/plain": [
              "<Figure size 432x288 with 1 Axes>"
            ]
          },
          "metadata": {
            "needs_background": "light"
          }
        }
      ]
    },
    {
      "cell_type": "code",
      "source": [
        "# looking at the more general log metallicity, out of interest\n",
        "bins = np.linspace(-2, 0.5, 25)\n",
        "plt.hist(star_P['M/H'], density='True', bins=bins, label='planet(s) detected', alpha=0.5)\n",
        "plt.hist(star_NP['M/H'], density='True', bins=bins, label='no planets detected', alpha=0.5)\n",
        "plt.title('Log metallicity for stars with and without detected planets')\n",
        "plt.ylabel('Normalized count')\n",
        "plt.xlabel('[M/H]')\n",
        "plt.legend()\n",
        "plt.show()"
      ],
      "metadata": {
        "colab": {
          "base_uri": "https://localhost:8080/",
          "height": 295
        },
        "id": "0lpm6TpcbYIA",
        "outputId": "9bd85cdc-847c-4bf4-bc4f-83894c650604"
      },
      "execution_count": 7,
      "outputs": [
        {
          "output_type": "display_data",
          "data": {
            "image/png": "[encoded data removed]",
            "text/plain": [
              "<Figure size 432x288 with 1 Axes>"
            ]
          },
          "metadata": {
            "needs_background": "light"
          }
        }
      ]
    },
    {
      "cell_type": "markdown",
      "source": [
        "By eye, the population of stars with known planets appears to be shifted towards a higher metallicity than the population of stars where no planets have been detected."
      ],
      "metadata": {
        "id": "k7yyYbSNa-ys"
      }
    },
    {
      "cell_type": "markdown",
      "metadata": {
        "id": "8g6x-DZINXoH"
      },
      "source": [
        "## Question 2:\n",
        "\n",
        "We'll begin with the table from homework \\#2, with two more columns: metallicity $\\mathrm{[Fe/H]}$, and prior probability $p(f)$.\n",
        "\n",
        "This time we describe the fraction of stars with planets as a function of metallicity, i.e. $f = f(\\mathrm{[Fe/He]}_i)$.\n",
        "\n",
        "~~The simplest prior we can assume about planet occurrence is a flat distribution, say p = 0.5 (or \"50% of stars have planets,\" for another callback to homework \\#2). I wonder whether we could also assume from question 1 that planet occurrence increases with stellar metallicity, but will leave it as a flat prior for simplicity.~~ Never mind, turns out the simplest prior is that $f$ must be between 0 and 1. Each star represents a Bernoulli trial where the probability of detecting at least one planet is given by the binomial distribution.\n",
        "\n",
        "I will also assume that, as before, planets 1 and 2 have detected planets while 3 and 4 do not."
      ]
    },
    {
      "cell_type": "markdown",
      "metadata": {
        "id": "lTkgm5a_OBW6"
      },
      "source": [
        "| star | detection | metallicity | $p(f)$ | $p(D_i|f)$ |\n",
        "| --- | --- | --- | --- | --- |\n",
        "| 1 | 1 | $\\mathrm{[Fe/H]}_1$ | $0 \\le f \\le 1$ | $f(\\mathrm{[Fe/He]}_1)$ |\n",
        "| 2 | 1 | $\\mathrm{[Fe/H]}_2$ | $0 \\le f \\le 1$ | $f(\\mathrm{[Fe/He]}_2)$ |\n",
        "| 3 | 0 | $\\mathrm{[Fe/H]}_3$ | $0 \\le f \\le 1$ | $1 - f(\\mathrm{[Fe/He]}_3)$ |\n",
        "| 4 | 0 | $\\mathrm{[Fe/H]}_4$ | $0 \\le f \\le 1$ | $1 - f(\\mathrm{[Fe/He]}_4)$ |"
      ]
    },
    {
      "cell_type": "markdown",
      "metadata": {
        "id": "n8c7LQ1yO-7Q"
      },
      "source": [
        "The probability of planet detection for these four stars would now be:\n",
        "\n",
        "$p(\\{D\\}|f) = f(\\mathrm{[Fe/He]}_1) \\cdot f(\\mathrm{[Fe/He]}_2) \\cdot (1 - f(\\mathrm{[Fe/He]}_3) \\cdot (1 - f(\\mathrm{[Fe/He]}_4)$"
      ]
    },
    {
      "cell_type": "markdown",
      "source": [
        "## Question 3:\n",
        "\n",
        "Now we will assume, per Fischer & Valenti (2005), that $f$ follows a power law:\n",
        "\n",
        "$f(\\mathrm{[Fe/H]}) = \\alpha \\cdot 10^{\\beta \\mathrm{[Fe/H]}}$,\n",
        "\n",
        "which gives us a probability of detection:\n",
        "\n",
        "$p(\\{D\\}|f) = (\\alpha \\cdot 10^{\\beta \\mathrm{[Fe/H]}_1}) \\cdot (\\alpha \\cdot 10^{\\beta \\mathrm{[Fe/H]}_2}) \\cdot (1 - \\alpha \\cdot 10^{\\beta \\mathrm{[Fe/H]}_3}) \\cdot (1 - \\alpha \\cdot 10^{\\beta \\mathrm{[Fe/H]}_4})$\n",
        "\n",
        "We can generalize this for $x$ stars with planets and $n$ total stars as something like:\n",
        "\n",
        "$p(\\{D\\}|f) = \\prod_{i=1}^{x} \\alpha \\cdot 10^{\\beta \\mathrm{[Fe/H]}_i} \\cdot \\prod_{j=1}^{n-x} (1 - \\alpha \\cdot 10^{\\beta \\mathrm{[Fe/H]}_j})$"
      ],
      "metadata": {
        "id": "4OYTEIQAfsaE"
      }
    },
    {
      "cell_type": "markdown",
      "source": [
        "## Question 4:\n",
        "\n",
        "We'll calculate the probability of detection with the prior that $f = [0,1]$ because it's a probability distribution."
      ],
      "metadata": {
        "id": "vcGWzE2qhW_s"
      }
    },
    {
      "cell_type": "markdown",
      "source": [
        "##### Garbage attempts"
      ],
      "metadata": {
        "id": "KwkBoJzlt7lg"
      }
    },
    {
      "cell_type": "code",
      "source": [
        "# calculate f = alpha * 10^(beta * [Fe/H])\n",
        "def fraction(alpha, beta, FeH):\n",
        "  return alpha * 10**(beta * FeH)\n",
        "\n",
        "# calculate likelihood p(D|f) from product of p(D_i|f) values\n",
        "def log_likelihood(detection, alpha, beta, metallicity):\n",
        "  likelihood = np.zeros(len(detection))\n",
        "  for i, FeH in enumerate(metallicity):\n",
        "    if detection[i]=='P':\n",
        "      likelihood[i] = fraction(alpha, beta, FeH)\n",
        "    elif detection[i]=='S':\n",
        "      likelihood[i] = 1 - fraction(alpha, beta, FeH)\n",
        "  if np.prod(likelihood) <= 0 or np.prod(likelihood) > 1:\n",
        "    return -np.inf\n",
        "  else:\n",
        "    return np.log(np.prod(likelihood))\n",
        "\n",
        "# The ln-probability function is just proportional to the ln-likelihood\n",
        "# since we're assuming uniform priors.\n",
        "bounds = [(-5, 5), (-5, 5), (-5, 5)]\n",
        "def lnprob(theta):\n",
        "    # Broad uniform priors.\n",
        "    for t, rng in zip(theta, bounds):\n",
        "        if not rng[0] < t < rng[1]:\n",
        "            return -np.inf\n",
        "    return lnlike(theta)\n",
        "\n",
        "def log_probability(alpha, beta, planets, noplanets):\n",
        "    lp = log_prior(alpha, beta,)\n",
        "    if not np.isfinite(lp):\n",
        "        return -np.inf\n",
        "    return lp + log_likelihood(theta, planets, noplanets)\n",
        "\n",
        "# test where this should be zero and non-zero\n",
        "print(log_likelihood(table['f_ID'], 0., 0., table['Fe/H']))\n",
        "print(log_likelihood(table['f_ID'], 0.04, 2.3, table['Fe/H']))"
      ],
      "metadata": {
        "id": "ICUNEv0vhX6a",
        "colab": {
          "base_uri": "https://localhost:8080/"
        },
        "outputId": "f1ce2647-34d3-4820-9d3a-aa3ba3dca3c2"
      },
      "execution_count": 8,
      "outputs": [
        {
          "output_type": "stream",
          "name": "stdout",
          "text": [
            "-inf\n",
            "-172.61981115801004\n"
          ]
        }
      ]
    },
    {
      "cell_type": "code",
      "source": [
        "import emcee\n",
        "pos = [0.03, 2.0] + 1e-4 * np.random.randn(32, 2)\n",
        "nwalkers, ndim = pos.shape\n",
        "sampler = emcee.EnsembleSampler(nwalkers, ndim, log_likelihood, args=(table['Fe/H']))\n",
        "\n",
        "ndim, nwalkers = 5, 100\n",
        "ivar = 1. / np.random.rand(ndim)\n",
        "p0 = np.random.randn(nwalkers, ndim)\n",
        "sampler = emcee.EnsembleSampler(nwalkers, ndim, log_prob, args=[ivar])\n",
        "sampler.run_mcmc(p0, 10000)\n",
        "\n",
        "# burn in\n",
        "pos, _, _ = sampler.run_mcmc(pos, 1000)\n",
        "sampler.reset()\n",
        "\n",
        "# production\n",
        "pos, _, _ = sampler.run_mcmc(pos, 4000)\n",
        "\n",
        "# triangle plot of PDFs using DFMs corner package\n",
        "corner.corner(sampler.flatchain, labels=[r\"$\\ln F$\", r\"$\\beta$\", r\"$\\alpha$\"]);\n",
        "\n",
        "impor"
      ],
      "metadata": {
        "id": "6LpFHw9ySUkv"
      },
      "execution_count": null,
      "outputs": []
    },
    {
      "cell_type": "code",
      "source": [
        "import emcee\n",
        "import corner\n",
        "\n",
        "# calculate likelihood p(D|f) from product of p(D_i|f) values\n",
        "def lnlike(theta, detection, metallicity):\n",
        "  alpha, beta = theta\n",
        "  likelihood = np.zeros(len(detection))\n",
        "  for i, FeH in enumerate(metallicity):\n",
        "    if detection[i]=='P':\n",
        "      likelihood[i] = fraction(alpha, beta, FeH)\n",
        "    elif detection[i]=='S':\n",
        "      likelihood[i] = 1 - fraction(alpha, beta, FeH)\n",
        "  if np.prod(likelihood) <= 0 or np.prod(likelihood) > 1:\n",
        "    return -np.inf\n",
        "  else:\n",
        "    return np.log(np.prod(likelihood))\n",
        "\n",
        "def lnprior(theta):\n",
        "  alpha, beta = theta\n",
        "  if 0. < alpha < 0.1 and 0. < beta < 3.:\n",
        "    return 0.0\n",
        "  else:\n",
        "    return -np.inf\n",
        "\n",
        "def lnprob(theta, detection, metallicity):\n",
        "  lp = lnprior(theta)\n",
        "  if np.isfinite(lp):\n",
        "    return lp + lnlike(theta, detection, metallicity)\n",
        "  else:\n",
        "    return -np.inf\n",
        "\n",
        "pos = [0.03, 2.0] + 1e-4 * np.random.randn(32, 2)\n",
        "nwalkers, ndim = pos.shape\n",
        "sampler = emcee.EnsembleSampler(nwalkers, ndim, lnprob, args=(table['f_ID'], table['Fe/H']))\n",
        "sampler.run_mcmc(pos, 5000, progress=True)"
      ],
      "metadata": {
        "id": "Z6wSlU8IaBfD"
      },
      "execution_count": null,
      "outputs": []
    },
    {
      "cell_type": "code",
      "source": [
        "# calculate likelihood p(D|f) from product of p(D_i|f) values\n",
        "def lnlike(theta, detection, metallicity):\n",
        "  alpha, beta = theta\n",
        "  likelihood = np.zeros(len(detection))\n",
        "  for i, FeH in enumerate(metallicity):\n",
        "    if detection[i]=='P':\n",
        "      likelihood[i] = fraction(alpha, beta, FeH)\n",
        "    elif detection[i]=='S':\n",
        "      likelihood[i] = 1 - fraction(alpha, beta, FeH)\n",
        "  if np.prod(likelihood) <= 0 or np.prod(likelihood) > 1:\n",
        "    return -np.inf\n",
        "  else:\n",
        "    return np.log(np.prod(likelihood))\n",
        "\n",
        "def lnprior(theta):\n",
        "  alpha, beta = theta\n",
        "  if 0. < alpha < 0.1 and 0. < beta < 3.:\n",
        "    return 0.0\n",
        "  else:\n",
        "    return -np.inf\n",
        "\n",
        "def lnprob(theta, detection, metallicity):\n",
        "  lp = lnprior(theta)\n",
        "  if np.isfinite(lp):\n",
        "    return lp + lnlike(theta, detection, metallicity)\n",
        "  else:\n",
        "    return -np.inf\n",
        "\n",
        "pos = [0.03, 2.0] + 1e-4 * np.random.randn(32, 2)\n",
        "nwalkers, ndim = pos.shape\n",
        "sampler = emcee.EnsembleSampler(nwalkers, ndim, lnprob, args=(table['f_ID'], table['Fe/H']))\n",
        "sampler.run_mcmc(pos, 5000, progress=True)"
      ],
      "metadata": {
        "id": "dMa0NCU7TC9g"
      },
      "execution_count": null,
      "outputs": []
    },
    {
      "cell_type": "markdown",
      "source": [
        "##### Less garbage attempt"
      ],
      "metadata": {
        "id": "SlB79OlzuE69"
      }
    },
    {
      "cell_type": "code",
      "source": [
        "# for loops are a crime against humanity so let's speed things up\n",
        "\n",
        "def fraction(alpha, beta, FeH):\n",
        "  return alpha * 10**(beta * FeH)\n",
        "\n",
        "def lnlike(theta, P_met, NP_met):\n",
        "  alpha, beta = theta\n",
        "  like = np.prod(fraction(alpha, beta, P_met)) * np.prod(1 - fraction(alpha, beta, NP_met))\n",
        "  if like <= 0 or like > 1:  # prior: f must be between 0 and 1, so likelihood must be as well\n",
        "    return -np.inf\n",
        "  else:\n",
        "    return np.log(like)\n",
        "\n",
        "def lnprior(theta):\n",
        "  alpha, beta = theta\n",
        "  # set some constraints on outliers\n",
        "  if 0. < alpha < 0.1 and 0. < beta < 3.:\n",
        "    return 0.0\n",
        "  else:\n",
        "    return -np.inf\n",
        "\n",
        "def lnprob(theta, P_met, NP_met):\n",
        "  ll = lnlike(theta, P_met, NP_met)\n",
        "  lp = lnprior(theta)\n",
        "  if np.isfinite(lp) and np.isfinite(ll):\n",
        "    return lp + ll\n",
        "  else:\n",
        "    return -np.inf"
      ],
      "metadata": {
        "id": "zJCgLay8d_7Z"
      },
      "execution_count": 8,
      "outputs": []
    },
    {
      "cell_type": "code",
      "source": [
        "# test where this should be zero and non-zero\n",
        "print(lnlike([0., 0.], star_P['Fe/H'], star_NP['Fe/H']))\n",
        "print(lnlike([0.04, 2.3], star_P['Fe/H'], star_NP['Fe/H']))"
      ],
      "metadata": {
        "colab": {
          "base_uri": "https://localhost:8080/"
        },
        "id": "RywTKUBQfvxo",
        "outputId": "98bf0dcc-1ba4-4fe2-de66-779ce278c053"
      },
      "execution_count": 111,
      "outputs": [
        {
          "output_type": "stream",
          "name": "stdout",
          "text": [
            "-inf\n",
            "-172.61981115801004\n"
          ]
        }
      ]
    },
    {
      "cell_type": "code",
      "source": [
        "# mcmc search for alpha and beta\n",
        "import emcee\n",
        "\n",
        "# initialize with a first guess from F&V plus some noise\n",
        "init = np.hstack([0.03, 2.])\n",
        "ndim, nwalkers = 2, 50\n",
        "pos = [init + init * 1e-4 * np.random.randn(ndim) for i in range(nwalkers)]\n",
        "#sampler = emcee.EnsembleSampler(nwalkers, ndim, lnprob, args=(star_P['Fe/H'], star_NP['Fe/H']))\n",
        "#sampler.run_mcmc(pos, 1000, progress=True);\n",
        "\n",
        "# speed up a bit with multiprocessing\n",
        "from multiprocessing import Pool\n",
        "with Pool() as pool:\n",
        "  sampler = emcee.EnsembleSampler(nwalkers, ndim, lnprob, args=(star_P['Fe/H'], star_NP['Fe/H']), pool=pool)\n",
        "  sampler.run_mcmc(pos, 1000, progress=True);"
      ],
      "metadata": {
        "colab": {
          "base_uri": "https://localhost:8080/"
        },
        "id": "B3wBPtVGge_H",
        "outputId": "85d40ad6-f88b-4e9a-fad2-8bb603944676"
      },
      "execution_count": 9,
      "outputs": [
        {
          "output_type": "stream",
          "name": "stderr",
          "text": [
            "100%|██████████| 1000/1000 [01:17<00:00, 12.86it/s]\n"
          ]
        }
      ]
    },
    {
      "cell_type": "code",
      "source": [
        "import corner\n",
        "\n",
        "# remove initial iterations\n",
        "burnout = 100\n",
        "samples = sampler.chain[:,burnout:,:].reshape((-1,ndim))\n",
        "\n",
        "# corner plot time\n",
        "figure = corner.corner(samples, labels=[r'$\\alpha $', r'$\\beta $'], show_titles=True, quantiles=[.16,.84], levels=(1-np.exp(-0.5), 1-np.exp(-2)))\n",
        "best = np.hstack([corner.quantile(samples[:,0], [0.5]), corner.quantile(samples[:,1], [0.5])])\n",
        "corner.overplot_lines(figure, best, color='blue', alpha=0.5)\n",
        "corner.overplot_points(figure, best[None], color='blue', marker=\"s\", label='Bayesian results')\n",
        "corner.overplot_lines(figure, init, color='red', alpha=0.5)\n",
        "corner.overplot_points(figure, init[None], color='red', marker=\"s\", label='Fischer & Valenti (2005)')\n",
        "figure.legend()\n",
        "figure.show()"
      ],
      "metadata": {
        "colab": {
          "base_uri": "https://localhost:8080/",
          "height": 407
        },
        "id": "E3JeMggElJeA",
        "outputId": "ba6773aa-63ae-4a6b-8591-d821f06a4b6e"
      },
      "execution_count": 11,
      "outputs": [
        {
          "output_type": "display_data",
          "data": {
            "image/png": "[encoded data removed]",
            "text/plain": [
              "<Figure size 396x396 with 4 Axes>"
            ]
          },
          "metadata": {
            "needs_background": "light"
          }
        }
      ]
    },
    {
      "cell_type": "markdown",
      "source": [
        "Bayesian analysis gives us $\\alpha = 0.04$ and $\\beta = 1.59$; both FV05 values lie just outside the $1 \\sigma$ confidence intervals but are within the $2 \\sigma$ contour."
      ],
      "metadata": {
        "id": "mLvsnP-uyk3_"
      }
    },
    {
      "cell_type": "code",
      "source": [
        "# now histogram\n",
        "#pd.options.mode.chained_assignment = None  # default='warn'\n",
        "bins = np.linspace(-0.5,0.5,11)\n",
        "table['binning'] = pd.cut(table['Fe/H'], bins=bins, include_lowest=True)\n",
        "star_P['binning'] = pd.cut(star_P['Fe/H'], bins=bins, include_lowest=True)\n",
        "\n",
        "numer = star_P.groupby('binning').count().reset_index().Name # stars with planets detected per bin\n",
        "denom = table.groupby('binning').count().reset_index().Name  # total stars per bin\n",
        "frac = np.array(numer/denom)  # fraction of stars with planets per bin\n",
        "\n",
        "# we have to plot bins[:-1] because pd.cut gives bins as intervals (n=10)\n",
        "# rather than the edges that we defined with linspace (n=11)\n",
        "plt.bar(bins[:-1], frac, width=0.1, align='edge', label='FV05 data')\n",
        "plt.plot(bins[:-1]+0.05, fraction(best[0], best[1], bins[:-1]), color='orange', marker='o', label='best-fit model')  # +0.05 is to push over a half-width so the points align with the bin centers\n",
        "plt.xlim(-0.5, 0.5)\n",
        "plt.xlabel('[Fe/H]')\n",
        "plt.ylabel('Fraction of stars with planets detected')\n",
        "plt.legend()\n",
        "plt.show()"
      ],
      "metadata": {
        "colab": {
          "base_uri": "https://localhost:8080/",
          "height": 279
        },
        "id": "pW3LibljIFJG",
        "outputId": "846f2844-2c45-44f7-efd5-08c1bf94eca1"
      },
      "execution_count": 564,
      "outputs": [
        {
          "output_type": "display_data",
          "data": {
            "image/png": "[encoded data removed]",
            "text/plain": [
              "<Figure size 432x288 with 1 Axes>"
            ]
          },
          "metadata": {
            "needs_background": "light"
          }
        }
      ]
    },
    {
      "cell_type": "markdown",
      "source": [
        "# Question 5:\n",
        "\n",
        "Plotting the discrepancy per bin between $f_0$ measured from the data and $f_p$ predicted by our best-fit model, we have:"
      ],
      "metadata": {
        "id": "MpjYzIJW45YJ"
      }
    },
    {
      "cell_type": "code",
      "source": [
        "plt.scatter(denom, abs(frac-fraction(best[0], best[1], bins[:-1])))\n",
        "plt.xlabel('n (stars per bin)')\n",
        "plt.ylabel('$\\Delta f$')\n",
        "plt.title('Difference between model and data')"
      ],
      "metadata": {
        "colab": {
          "base_uri": "https://localhost:8080/",
          "height": 313
        },
        "id": "yfxtyrp2TixU",
        "outputId": "45da600b-0591-4ee0-a4a0-f87e061a9993"
      },
      "execution_count": 562,
      "outputs": [
        {
          "output_type": "execute_result",
          "data": {
            "text/plain": [
              "Text(0.5, 1.0, 'Difference between model and data')"
            ]
          },
          "metadata": {},
          "execution_count": 562
        },
        {
          "output_type": "display_data",
          "data": {
            "image/png": "[encoded data removed]",
            "text/plain": [
              "<Figure size 432x288 with 1 Axes>"
            ]
          },
          "metadata": {
            "needs_background": "light"
          }
        }
      ]
    },
    {
      "cell_type": "markdown",
      "source": [
        "This discrepancy $\\Delta f$ scales in a very sensible way: fewer samples means a poorer fit to the data."
      ],
      "metadata": {
        "id": "eM_SJCU_5Vph"
      }
    },
    {
      "cell_type": "markdown",
      "source": [
        "# Question 6b:\n",
        "\n",
        "Fischer & Valenti (2005) specifically infer a power-law relationship between the probability of forming a gas giant planet and the number of iron atoms present in a primordial disk, i.e. $\\mathcal{P}_{\\mathrm{planet}} \\propto (N_{\\mathrm{Fe}})^2$. This is not a 1:1 relationship, and doubling the number of iron atoms would have a variable effect on the planet detection probability.\n",
        "\n",
        "The power we obtain through a Bayesian analysis, $\\beta = 1.6$, roughly agrees with this relationship between planet detections and iron atoms squared.\n",
        "\n",
        "As noted by Mulders (2018), this relationship is obvious for super-solar metallicities, jumping from 5\\% for $\\mathrm{[Fe/H]} = 0$ up to 25\\% for $\\mathrm{[Fe/H]} = 0.5$; and less obvious at low metallicities, where the distribution appears flat."
      ],
      "metadata": {
        "id": "ukbvr5bK-Asb"
      }
    }
  ]
}