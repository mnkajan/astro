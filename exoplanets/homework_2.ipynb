{
  "nbformat": 4,
  "nbformat_minor": 0,
  "metadata": {
    "colab": {
      "name": "Exoplanets homework #2",
      "provenance": [],
      "authorship_tag": "ABX9TyPYdYuVD1J1UQJuk35Sw7rD"
    },
    "kernelspec": {
      "name": "python3",
      "display_name": "Python 3"
    },
    "language_info": {
      "name": "python"
    }
  },
  "cells": [
    {
      "cell_type": "markdown",
      "metadata": {
        "id": "4s7UYZ5v0wDv"
      },
      "source": [
        "## Exoplanets homework \\#2\n",
        "\n",
        "Starting with orbital code from homework \\#1:"
      ]
    },
    {
      "cell_type": "code",
      "metadata": {
        "id": "ladUDIrVwhhQ"
      },
      "source": [
        "import numpy as np\n",
        "from matplotlib import pyplot as plt\n",
        "import astropy.units as u\n",
        "import astropy.constants as consts\n",
        "from astropy.modeling import models, fitting\n",
        "from scipy.optimize import curve_fit"
      ],
      "execution_count": null,
      "outputs": []
    },
    {
      "cell_type": "code",
      "metadata": {
        "colab": {
          "base_uri": "https://localhost:8080/"
        },
        "id": "te_RfIVyt90-",
        "outputId": "650ca192-36eb-4875-a564-e874358cd1dd"
      },
      "source": [
        "G = consts.G  # gravitational constant\n",
        "M = consts.M_sun  # using M_sun for M_star\n",
        "a = 1 * u.AU  # semimajor axis (Earth value)\n",
        "#e = 0.01671  # orbital eccentricity (Earth value)\n",
        "e = 63./365  # orbital eccentricity (birthday value)\n",
        "\n",
        "# specific angular momentum (Ell = L/m)\n",
        "def calc_Ell(a,e,M):\n",
        "  return (G * M * a * (1 - e**2))**(1/2)\n",
        "Ell = calc_Ell(a,e,M)\n",
        "\n",
        "def dtheta(Ell, r, dt):\n",
        "    return (Ell / (r**2)) * dt * u.rad\n",
        "\n",
        "def r(a, e, theta):\n",
        "    return (a * (1 - e**2)) / (1 + e * np.cos(theta))\n",
        "\n",
        "def calc_period(a, M):\n",
        "    return ((4 * np.pi**2 * a**3)/(G * M))**0.5"
      ],
      "execution_count": null,
      "outputs": [
        {
          "output_type": "stream",
          "name": "stdout",
          "text": [
            "365.25689838404185 d\n"
          ]
        }
      ]
    },
    {
      "cell_type": "code",
      "metadata": {
        "id": "R-EJelUY1n9s"
      },
      "source": [
        "t0 = 0. * u.day\n",
        "tf = calc_period(a, M).to(u.day)\n",
        "times = np.linspace(t0, tf, 1000)\n",
        "dt = times[1] - times[0]\n",
        "theta = 0. * u.rad\n",
        "r1 = a * (1 - e)  # r0 at periastron\n",
        "r_vals = []\n",
        "x_vals=[]\n",
        "y_vals=[]\n",
        "theta_vals = []\n",
        "\n",
        "e = 63./365  # eccentricity\n",
        "Ell = calc_Ell(a,e,M)  # specific angular momentum\n",
        "\n",
        "plt.rcParams[\"figure.figsize\"] = [7.50, 7.50]\n",
        "fig = plt.figure()\n",
        "ax = fig.add_subplot(111,aspect='equal')\n",
        "\n",
        "for i in times:\n",
        "    r_vals.append(r1)\n",
        "    theta_vals.append(theta)\n",
        "    x_vals.append(r1 * np.cos(theta))\n",
        "    y_vals.append(r1 * np.sin(theta))\n",
        "    theta = theta + dtheta(Ell, r1, dt)  # new theta\n",
        "    r1 = r(a, e, theta)  # new radius\n",
        "    \n",
        "plt.scatter(x_vals*u.AU, y_vals*u.AU, color='blue', s=20)\n",
        "plt.scatter(0, 0, color='red', marker='*', s=200)\n",
        "plt.show()"
      ],
      "execution_count": null,
      "outputs": []
    },
    {
      "cell_type": "markdown",
      "metadata": {
        "id": "DxLnNsOyf-Te"
      },
      "source": [
        "## Question 1a:"
      ]
    },
    {
      "cell_type": "code",
      "metadata": {
        "colab": {
          "base_uri": "https://localhost:8080/",
          "height": 524
        },
        "id": "XmEUggpgQB__",
        "outputId": "f61013b1-a18b-4f8a-9cd9-7ad7eaa33e99"
      },
      "source": [
        "def livin_la_vis_viva_loca(M, r, a):\n",
        "  return np.sqrt(consts.G*M*(2./r - 1./a))\n",
        "\n",
        "# redo with\n",
        "t0 = 0. * u.day\n",
        "tf = calc_period(a, M).to(u.day)\n",
        "times = np.linspace(t0, tf, 20000)\n",
        "dt = times[1] - times[0]\n",
        "theta = 0. * u.rad\n",
        "r1 = a * (1 - e)  # r0 at periastron\n",
        "r_vals = []\n",
        "x_vals=[]\n",
        "y_vals=[]\n",
        "theta_vals = []\n",
        "v_vals=[]\n",
        "\n",
        "e = 63./365  # eccentricity\n",
        "Ell = calc_Ell(a,e,M)  # specific angular momentum\n",
        "\n",
        "plt.rcParams[\"figure.figsize\"] = [7.50, 7.50]\n",
        "fig = plt.figure()\n",
        "ax = fig.add_subplot(111,aspect='equal')\n",
        "\n",
        "for i in times:\n",
        "    r_vals.append(r1)\n",
        "    theta_vals.append(theta)\n",
        "    x_vals.append(r1 * np.cos(theta))\n",
        "    y_vals.append(r1 * np.sin(theta))\n",
        "    v_vals.append(livin_la_vis_viva_loca(M, r1, a))\n",
        "    theta = theta + dtheta(Ell, r1, dt)  # update theta\n",
        "    r1 = r(a, e, theta)  # update radius\n",
        "    \n",
        "plt.scatter(x_vals*u.AU, y_vals*u.AU, color='blue', s=20)\n",
        "plt.scatter(0, 0, color='red', marker='*', s=200)\n",
        "plt.show()"
      ],
      "execution_count": null,
      "outputs": [
        {
          "output_type": "display_data",
          "data": {
            "image/png": "[encoded data removed]",
            "text/plain": [
              "<Figure size 540x540 with 1 Axes>"
            ]
          },
          "metadata": {
            "needs_background": "light"
          }
        }
      ]
    },
    {
      "cell_type": "code",
      "metadata": {
        "colab": {
          "base_uri": "https://localhost:8080/"
        },
        "id": "wyTSoEyrOqKL",
        "outputId": "45e227ca-bbae-42b7-b11b-51520d644fcb"
      },
      "source": [
        "R = consts.R_sun\n",
        "D = 2 * R / v_vals[0]  # transit duration\n",
        "print(D.to(u.hr))"
      ],
      "execution_count": null,
      "outputs": [
        {
          "output_type": "stream",
          "name": "stdout",
          "text": [
            "10.900288038003552 h\n"
          ]
        }
      ]
    },
    {
      "cell_type": "code",
      "metadata": {
        "colab": {
          "base_uri": "https://localhost:8080/"
        },
        "id": "-couVAs4PMGr",
        "outputId": "0cbfc392-fd9d-458b-e30f-c68c3dd5197d"
      },
      "source": [
        "print(v_vals[0].decompose())  # this should be around 30 km/s to be sensible (Earth-like)\n",
        "                              # ...maybe a bit more since this is at periastron and the eccentricity is greater"
      ],
      "execution_count": null,
      "outputs": [
        {
          "output_type": "stream",
          "name": "stdout",
          "text": [
            "35457.7786066275 m / s\n"
          ]
        }
      ]
    },
    {
      "cell_type": "markdown",
      "metadata": {
        "id": "QpP5oMjRQjK-"
      },
      "source": [
        "Using the vis-viva equation, we get an orbital velocity of the planet at periastron of $\\sim 35 \\, \\mathrm{km/s}$. We can approximate the transit duration as the time it takes to traverse $2 R_{\\star}$ (the entire face of the star) at the given orbital velocity and find a duration of $\\sim 10.9 \\, \\mathrm{hours}$."
      ]
    },
    {
      "cell_type": "markdown",
      "metadata": {
        "id": "7YY4GPzJQOJe"
      },
      "source": [
        "## Question 1b:"
      ]
    },
    {
      "cell_type": "code",
      "metadata": {
        "colab": {
          "base_uri": "https://localhost:8080/"
        },
        "id": "OBhtW5UVRyBT",
        "outputId": "4e11ff70-4b92-47b4-e900-274fc0a89a56"
      },
      "source": [
        "stop_scan = (np.abs(y_vals*u.AU) > R).argmax()  # first index where y_val > R\n",
        "print(stop_scan-1)  # how many points?\n",
        "Db = (times[stop_scan-1] - min(times))*2  # multiplying by 2 because it's only half the duration... this is kinda quick and dirty sorry\n",
        "print(Db.to(u.hr))"
      ],
      "execution_count": null,
      "outputs": [
        {
          "output_type": "stream",
          "name": "stdout",
          "text": [
            "12\n",
            "10.51992466969389 h\n"
          ]
        }
      ]
    },
    {
      "cell_type": "code",
      "metadata": {
        "colab": {
          "base_uri": "https://localhost:8080/"
        },
        "id": "ilvcKpJFYjhr",
        "outputId": "a6c73171-209a-490f-b2b0-079832d8ff11"
      },
      "source": [
        "print((10.5 - 10.9) / 10.9 * 100.0)"
      ],
      "execution_count": null,
      "outputs": [
        {
          "output_type": "stream",
          "name": "stdout",
          "text": [
            "-3.6697247706422047\n"
          ]
        }
      ]
    },
    {
      "cell_type": "markdown",
      "metadata": {
        "id": "no7g7-6DTwfa"
      },
      "source": [
        "The transit duration calculated as the time between where the absolute value of $r_y$ exceeds $R_{\\star}$ (for $x \\gt 0$) gives a transit duration of $\\sim 10.5 \\, \\mathrm{hours}$, about 4\\% less than the duration estimate we obtained using the method of 1a."
      ]
    },
    {
      "cell_type": "markdown",
      "metadata": {
        "id": "lEzI3gU6Zsms"
      },
      "source": [
        "## Question 1c:\n",
        "\n",
        "Now we use equation 14 from Seager's $\\textit{Exoplanets}$, section \"Transits and Occultations\":\n",
        "\n",
        "$T = \\frac{P}{\\pi} \\arcsin \\bigg[ \\frac{R_{\\star} \\sqrt{(1+k)^2 - b^2}}{a \\sin i} \\bigg]$\n",
        "\n",
        "modified for eccentric orbits by the dimensionless factor from equation 16, $\\frac{\\sqrt{1-e^2}}{1 + e \\sin \\omega}$; and assuming an impact parameter $b = 0$, $k = R_p / R_{\\star}$, orbital inclination $i = \\pi / 2$, and $\\omega = \\pi / 2$."
      ]
    },
    {
      "cell_type": "code",
      "metadata": {
        "colab": {
          "base_uri": "https://localhost:8080/"
        },
        "id": "zoBFO5laaDES",
        "outputId": "cd629a3b-5b28-4913-e519-11fcdd624f41"
      },
      "source": [
        "def transit_duration(P, R, Rp, b, a, inc, e, omega): \n",
        "    expression = (R * np.sqrt((1 + (Rp/R))**2 - b**2)) / (a * np.sin(inc))\n",
        "    e_factor = np.sqrt(1 - e**2)/(1 + e * np.sin(omega))\n",
        "    return (P / np.pi) * np.arcsin(expression) * e_factor\n",
        "\n",
        "b = 0\n",
        "inc = np.pi/2 * u.rad\n",
        "omega = np.pi/2 * u.rad\n",
        "Rp = consts.R_earth\n",
        "\n",
        "Dc = transit_duration(tf, R, Rp, b, a, inc, e, omega)\n",
        "print((Dc/u.rad).to(u.h))  # idk how to sort out the units rn so I just divided by u.rad\n",
        "\n",
        "Dc_circ = transit_duration(tf, R, Rp, b, a, inc, 0, omega)\n",
        "print((Dc_circ/u.rad).to(u.h))  # idk how to sort out the units rn so I just divided by u.rad"
      ],
      "execution_count": null,
      "outputs": [
        {
          "output_type": "stream",
          "name": "stdout",
          "text": [
            "11.000261043651602 h\n",
            "13.095479480914893 h\n"
          ]
        }
      ]
    },
    {
      "cell_type": "markdown",
      "metadata": {
        "id": "GAuzPqoIhGAg"
      },
      "source": [
        "The exact duration is 11 hours for this eccentric orbit, and 13 hours for a circular orbit. The eccentric orbit is about 2 hours faster (which makes sense, since the orbital velocity during transit would be greater for a more eccentric orbit)."
      ]
    },
    {
      "cell_type": "markdown",
      "metadata": {
        "id": "X6wJaok_hb-1"
      },
      "source": [
        "## Question 1d:"
      ]
    },
    {
      "cell_type": "code",
      "metadata": {
        "colab": {
          "base_uri": "https://localhost:8080/"
        },
        "id": "SnJmc-Hhhd7y",
        "outputId": "c7fde5f4-a626-446f-a17e-083e422b36b0"
      },
      "source": [
        "omega = 3 * np.pi / 2  # apoapse\n",
        "Dd = transit_duration(tf, R, Rp, b, a, inc, e, omega)\n",
        "print((Dd/u.rad).to(u.h))"
      ],
      "execution_count": null,
      "outputs": [
        {
          "output_type": "stream",
          "name": "stdout",
          "text": [
            "15.589773929413528 h\n"
          ]
        }
      ]
    },
    {
      "cell_type": "code",
      "metadata": {
        "colab": {
          "base_uri": "https://localhost:8080/"
        },
        "id": "5XNzCnkuiRRf",
        "outputId": "c13a90da-b45b-4f55-d4c4-747abd4b8539"
      },
      "source": [
        "es = np.linspace(0, 1, 100)\n",
        "for e in es:\n",
        "    D_ecc = transit_duration(tf, R, Rp, b, a, inc, e, omega)/u.rad\n",
        "    D_circ = transit_duration(tf, R, Rp, b, a, inc, 0, omega)/u.rad\n",
        "    ratio = D_ecc/D_circ\n",
        "    if ratio >= 1.1:\n",
        "        print(e, D_ecc.to(u.h), D_circ.to(u.h), ratio)\n",
        "        break"
      ],
      "execution_count": null,
      "outputs": [
        {
          "output_type": "stream",
          "name": "stdout",
          "text": [
            "0.10101010101010102 14.492377899434619 h 13.095479480914893 h 1.1066702766061784\n"
          ]
        }
      ]
    },
    {
      "cell_type": "markdown",
      "metadata": {
        "id": "ib__Pz5giyVi"
      },
      "source": [
        "The transit duration with apoapse pointed towards the viewer would be $\\sim 15.5 \\, \\mathrm{hours}$. If we can measure the transit duration to a precision of 10\\%, then in order to distinguish a circular orbit from an accentric one, the eccentric transit duration must differ from the circular one by at least 10\\%. The eccentricity must be $e \\ge 0.10$ for us to make this distinction with apoapse pointed towards the viewer."
      ]
    },
    {
      "cell_type": "markdown",
      "metadata": {
        "id": "hHHhZ8zoxlWW"
      },
      "source": [
        "## Question 2a:\n",
        "\n",
        "We derived in class that the probability of overlap of multiple objects is $P \\approx n D \\sigma$, where $n$ is the number density of objects, $D$ is the distance to the galactic center, and $\\sigma$ is the cross-section of interaction."
      ]
    },
    {
      "cell_type": "code",
      "metadata": {
        "colab": {
          "base_uri": "https://localhost:8080/"
        },
        "id": "oj8_BfphyJ8V",
        "outputId": "800fc19e-1dfd-4331-8f15-7651c37e05c5"
      },
      "source": [
        "P = (5 / u.pc**3) * (100 * u.lyr) * (np.pi * (10 * u.AU)**2)\n",
        "print('probability =',P.decompose())"
      ],
      "execution_count": null,
      "outputs": [
        {
          "output_type": "stream",
          "name": "stdout",
          "text": [
            "probability = 1.1319929848584845e-06\n"
          ]
        }
      ]
    },
    {
      "cell_type": "markdown",
      "metadata": {
        "id": "eOe1lSvu0bqG"
      },
      "source": [
        "The probability is $P \\approx 10^{-6}$."
      ]
    },
    {
      "cell_type": "markdown",
      "metadata": {
        "id": "5wfHoLHR0x1N"
      },
      "source": [
        "## Question 2b:\n",
        "\n",
        "The Einstein radius is given by:\n",
        "\n",
        "$\\theta_E = \\bigg[ \\frac{4GM}{c^2} \\bigg( \\frac{1}{D_L} - \\frac{1}{D_S} \\bigg) \\bigg]$\n",
        "\n",
        "where $D_L$ is the distance to the anterior lensing star and $D_S$ is the distance to the posterior source star. We will assume that the lensing star is Solar type."
      ]
    },
    {
      "cell_type": "code",
      "metadata": {
        "colab": {
          "base_uri": "https://localhost:8080/"
        },
        "id": "6I9OOCwd2NkE",
        "outputId": "366eccfc-2518-491c-8803-a278f42ff825"
      },
      "source": [
        "theta_E = np.sqrt((4 * consts.G * consts.M_sun / consts.c**2) * (1/(10 * u.lyr) - 1/(100 * u.lyr))).decompose()*u.rad.to(u.arcsec)\n",
        "print(theta_E)"
      ],
      "execution_count": null,
      "outputs": [
        {
          "output_type": "stream",
          "name": "stdout",
          "text": [
            "0.048893278851550835\n"
          ]
        }
      ]
    },
    {
      "cell_type": "markdown",
      "metadata": {
        "id": "zvIpgqZLDCWK"
      },
      "source": [
        "To detect planets, they must occur right on top of the Einstein ring. "
      ]
    },
    {
      "cell_type": "markdown",
      "metadata": {
        "id": "x0nSpiVVGgVX"
      },
      "source": [
        "The Einstein ring radius is $0.05''$."
      ]
    },
    {
      "cell_type": "code",
      "metadata": {
        "colab": {
          "base_uri": "https://localhost:8080/"
        },
        "id": "cWoaX-qWCyp-",
        "outputId": "f4088c40-a955-4103-b487-661d99f552d1"
      },
      "source": [
        "print((10 * u.lyr.to(u.pc) * theta_E))\n",
        "print((50 * u.lyr.to(u.pc) * theta_E))"
      ],
      "execution_count": null,
      "outputs": [
        {
          "output_type": "stream",
          "name": "stdout",
          "text": [
            "0.1499074744263107\n",
            "0.7495373721315535\n"
          ]
        }
      ]
    },
    {
      "cell_type": "markdown",
      "metadata": {
        "id": "E42PFr4xKV1K"
      },
      "source": [
        "For stars 10 and 50 lightyears away, an Einstein ring radius of $0.05''$ corresponds to distances from the star of 0.15 AU and 0.75 AU, respectively. This would be well within our own star's snow line, and even within that of an M dwarf which might have a snow line around 1 AU. Astronomers in the middle of a globular cluster would therefore not be able to use microlensing to find planets beyond the snow line as we do."
      ]
    },
    {
      "cell_type": "markdown",
      "metadata": {
        "id": "8g6x-DZINXoH"
      },
      "source": [
        "## Question 3a:"
      ]
    },
    {
      "cell_type": "markdown",
      "metadata": {
        "id": "lTkgm5a_OBW6"
      },
      "source": [
        "| star | detection | $p(D_{i}|f)$ |\n",
        "| --- | --- | --- |\n",
        "| 1 | 1 | $f$ |\n",
        "| 2 | 1 | $f$ |\n",
        "| 3 | 0 | $1-f$ |\n",
        "| 4 | 0 | $1-f$ |"
      ]
    },
    {
      "cell_type": "markdown",
      "metadata": {
        "id": "n8c7LQ1yO-7Q"
      },
      "source": [
        "## Question 3b:\n",
        "\n",
        "$p(\\{D\\}|f) = f^2 (1-f)^2$"
      ]
    },
    {
      "cell_type": "markdown",
      "metadata": {
        "id": "8HlF10zqz4LE"
      },
      "source": [
        "## Question 3c:"
      ]
    },
    {
      "cell_type": "code",
      "metadata": {
        "colab": {
          "base_uri": "https://localhost:8080/",
          "height": 261
        },
        "id": "sxeW6MD0x7yk",
        "outputId": "fc49fdc6-d2cb-4e1a-e4e2-4a88f7c23886"
      },
      "source": [
        "plt.rcParams[\"figure.figsize\"] = [7.50, 3.50]\n",
        "plt.rcParams[\"figure.autolayout\"] = True\n",
        "\n",
        "x = np.linspace(0, 1, 100)\n",
        "\n",
        "### for 2 out of 4 detections\n",
        "def f1(x):\n",
        "   return x**2 * (1-x)**2\n",
        "\n",
        "### for 1 out of 4 detections\n",
        "def f2(x):\n",
        "   return x * (1-x)**3\n",
        "\n",
        "### for 3 out of 4 detections\n",
        "def f3(x):\n",
        "   return x**3 * (1-x)\n",
        "\n",
        "plt.plot(x, f1(x), color='black', label='2 out of 4 detections')\n",
        "plt.plot(x, f2(x), color='red', label='1 out of 4 detections')\n",
        "plt.plot(x, f3(x), color='blue', label='3 out of 4 detections')\n",
        "plt.legend()\n",
        "plt.show()"
      ],
      "execution_count": null,
      "outputs": [
        {
          "output_type": "display_data",
          "data": {
            "image/png": "[encoded data removed]",
            "text/plain": [
              "<Figure size 540x252 with 1 Axes>"
            ]
          },
          "metadata": {
            "needs_background": "light"
          }
        }
      ]
    },
    {
      "cell_type": "markdown",
      "metadata": {
        "id": "7XdGamv7zksS"
      },
      "source": [
        "The likelihood goes to zero for $f = 0$ and $f = 1$. Maximum likelihood occurs at $f = 0.5$ for the original case (2 out of 4 detections)."
      ]
    },
    {
      "cell_type": "markdown",
      "metadata": {
        "id": "mIRYyUaP0FwN"
      },
      "source": [
        "## Question 3d:"
      ]
    },
    {
      "cell_type": "code",
      "metadata": {
        "colab": {
          "base_uri": "https://localhost:8080/"
        },
        "id": "RO_xKhpc1nFN",
        "outputId": "3c054226-d9bd-4acf-f2b5-7537f6990d18"
      },
      "source": [
        "g_init = models.Gaussian1D(amplitude=1., mean=0, stddev=1.)\n",
        "fit_g = fitting.LevMarLSQFitter()\n",
        "g = fit_g(g_init, x, f1(x))\n",
        "print(g)"
      ],
      "execution_count": null,
      "outputs": [
        {
          "output_type": "stream",
          "name": "stdout",
          "text": [
            "Model: Gaussian1D\n",
            "Inputs: ('x',)\n",
            "Outputs: ('y',)\n",
            "Model set size: 1\n",
            "Parameters:\n",
            "        amplitude     mean        stddev      \n",
            "    ----------------- ---- -------------------\n",
            "    0.064906763350347  0.5 0.21185317354820687\n"
          ]
        }
      ]
    },
    {
      "cell_type": "code",
      "metadata": {
        "colab": {
          "base_uri": "https://localhost:8080/",
          "height": 388
        },
        "id": "8kvQSDXpludp",
        "outputId": "aa7c4178-19db-43f4-8520-4b3653873944"
      },
      "source": [
        "plt.figure(figsize=(8,5))\n",
        "plt.plot(x, f1(x), 'ko')\n",
        "plt.plot(x, g(x), label='Gaussian')"
      ],
      "execution_count": null,
      "outputs": [
        {
          "output_type": "execute_result",
          "data": {
            "text/plain": [
              "[<matplotlib.lines.Line2D at 0x7fa48538b850>]"
            ]
          },
          "metadata": {},
          "execution_count": 42
        },
        {
          "output_type": "display_data",
          "data": {
            "image/png": "[encoded data removed]",
            "text/plain": [
              "<Figure size 576x360 with 1 Axes>"
            ]
          },
          "metadata": {
            "needs_background": "light"
          }
        }
      ]
    },
    {
      "cell_type": "code",
      "metadata": {
        "colab": {
          "base_uri": "https://localhost:8080/"
        },
        "id": "hhVuYxZ10FDm",
        "outputId": "39329383-7ede-4344-e702-eb1165ddb2d7"
      },
      "source": [
        "# documentation: Standard deviation of the Gaussian with FWHM = 2 * stddev * np.sqrt(2 * np.log(2)).\n",
        "\n",
        "# FWHM=sigma*sqrt(8 ln 2)\n",
        "\n",
        "fwhm=2*g.stddev[0]\n",
        "print(fwhm)"
      ],
      "execution_count": null,
      "outputs": [
        {
          "output_type": "stream",
          "name": "stdout",
          "text": [
            "0.42370668312080656\n"
          ]
        }
      ]
    },
    {
      "cell_type": "code",
      "metadata": {
        "colab": {
          "base_uri": "https://localhost:8080/"
        },
        "id": "u2s6MopwpIAO",
        "outputId": "0db387d5-0bbf-433d-fbf9-1a37dbce73ef"
      },
      "source": [
        "# using curve_fit instead\n",
        "def gauss(x, a, mu, sigma):\n",
        "    return a*np.exp(-0.5*(x-mu)**2/(sigma**2))\n",
        "popt, pcov = curve_fit(gauss, x, f1(x), p0=[0.06,0.5,0.25]) # p0 = best guess\n",
        "fit = gauss(x, *popt)\n",
        "print('mu =', popt[1],'\\nsigma =', popt[2])"
      ],
      "execution_count": null,
      "outputs": [
        {
          "output_type": "stream",
          "name": "stdout",
          "text": [
            "mu = 0.49999999999854816 \n",
            "sigma = 0.21185334136875036\n"
          ]
        }
      ]
    },
    {
      "cell_type": "markdown",
      "metadata": {
        "id": "U_KD7Yww44Vb"
      },
      "source": [
        "Our confidence interval $\\bar{f} \\pm \\sigma$ is $0.5 \\pm 0.2$."
      ]
    },
    {
      "cell_type": "markdown",
      "metadata": {
        "id": "XCGIx2T762pg"
      },
      "source": [
        "## Question 3e:\n",
        "\n",
        "\"2 to 1 odds\" is equivalent to 66\\% odds, but here we have 68\\% odds ($1\\sigma$) that \"50\\% of stars have planets,\" so we should call our friend at the Times."
      ]
    }
  ]
}